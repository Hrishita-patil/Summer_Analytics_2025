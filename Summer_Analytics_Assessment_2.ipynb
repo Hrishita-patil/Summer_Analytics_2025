{
  "nbformat": 4,
  "nbformat_minor": 0,
  "metadata": {
    "colab": {
      "provenance": []
    },
    "kernelspec": {
      "name": "python3",
      "display_name": "Python 3"
    },
    "language_info": {
      "name": "python"
    }
  },
  "cells": [
    {
      "cell_type": "code",
      "execution_count": null,
      "metadata": {
        "id": "gOPLNGVspjNG"
      },
      "outputs": [],
      "source": [
        "import pandas as pd\n",
        "import numpy as np\n",
        "from sklearn.model_selection import train_test_split\n",
        "from sklearn.linear_model import LogisticRegression\n",
        "from sklearn.preprocessing import LabelEncoder\n",
        "from sklearn.metrics import classification_report, accuracy_score\n"
      ]
    },
    {
      "cell_type": "code",
      "source": [
        "train = pd.read_csv(\"hacktrain.csv\")\n",
        "test = pd.read_csv(\"hacktest.csv\")\n",
        "\n",
        "train.drop(columns=['Unnamed: 0'], inplace=True)\n",
        "test.drop(columns=['Unnamed: 0'], inplace=True)"
      ],
      "metadata": {
        "id": "HudhdJA0p0k8"
      },
      "execution_count": null,
      "outputs": []
    },
    {
      "cell_type": "code",
      "source": [
        "X = train.drop(columns=['ID', 'class']).interpolate(axis=1, limit_direction='both')\n",
        "X_test = test.drop(columns=['ID']).interpolate(axis=1, limit_direction='both')\n",
        "\n",
        "test_ids = test['ID']\n"
      ],
      "metadata": {
        "id": "Vmmnygsvp5zT"
      },
      "execution_count": null,
      "outputs": []
    },
    {
      "cell_type": "code",
      "source": [
        "y = train['class']\n",
        "label_encoder = LabelEncoder()\n",
        "y_encoded = label_encoder.fit_transform(y)\n",
        "\n",
        "class_names = label_encoder.classes_\n"
      ],
      "metadata": {
        "id": "rbivO0BNp8gf"
      },
      "execution_count": null,
      "outputs": []
    },
    {
      "cell_type": "code",
      "source": [
        "def add_features(df):\n",
        "    df = df.copy()\n",
        "    df['ndvi_mean'] = df.mean(axis=1)\n",
        "    df['ndvi_std'] = df.std(axis=1)\n",
        "    df['ndvi_max'] = df.max(axis=1)\n",
        "    df['ndvi_min'] = df.min(axis=1)\n",
        "    df['ndvi_range'] = df['ndvi_max'] - df['ndvi_min']\n",
        "    df['ndvi_first'] = df.iloc[:, 0]\n",
        "    df['ndvi_last'] = df.iloc[:, -1]\n",
        "    df['ndvi_slope'] = (df['ndvi_last'] - df['ndvi_first']) / (df.shape[1] - 1)\n",
        "    df['ndvi_positive_trend'] = (df.iloc[:, 1:].values > df.iloc[:, :-1].values).mean(axis=1)\n",
        "    return df\n",
        "\n",
        "\n",
        "X = train.drop(columns=['ID', 'class']).fillna(train.median(numeric_only=True))\n",
        "X_test = test.drop(columns=['ID']).fillna(train.median(numeric_only=True))\n",
        "\n",
        "X = add_features(X)\n",
        "X_test = add_features(X_test)"
      ],
      "metadata": {
        "id": "-3aaetU0quec"
      },
      "execution_count": null,
      "outputs": []
    },
    {
      "cell_type": "code",
      "source": [
        "X_train, X_val, y_train, y_val = train_test_split(X, y_encoded, test_size=0.2, random_state=42, stratify=y_encoded)\n"
      ],
      "metadata": {
        "id": "-SWvMVNUp_N8"
      },
      "execution_count": null,
      "outputs": []
    },
    {
      "cell_type": "code",
      "source": [
        "from sklearn.preprocessing import StandardScaler\n",
        "\n",
        "scaler = StandardScaler()\n",
        "X_train_scaled = scaler.fit_transform(X_train)\n",
        "X_val_scaled = scaler.transform(X_val)\n",
        "\n",
        "from sklearn.linear_model import LogisticRegression\n",
        "\n",
        "best_acc = 0\n",
        "best_model = None\n",
        "\n",
        "for c in [0.01, 0.1, 1, 10]:\n",
        "    model = LogisticRegression(C=c, max_iter=3000, solver='lbfgs')\n",
        "    model.fit(X_train_scaled, y_train)\n",
        "    val_preds = model.predict(X_val_scaled)\n",
        "    acc = accuracy_score(y_val, val_preds)\n",
        "    print(f\"C = {c} -> Accuracy: {acc:.4f}\")\n",
        "\n",
        "    if acc > best_acc:\n",
        "        best_acc = acc\n",
        "        best_model = model\n",
        "\n",
        "model = best_model"
      ],
      "metadata": {
        "colab": {
          "base_uri": "https://localhost:8080/"
        },
        "id": "lekMzdT9qB_s",
        "outputId": "d25e6d1e-f003-4065-c8dd-dddd39f7eccc"
      },
      "execution_count": null,
      "outputs": [
        {
          "output_type": "stream",
          "name": "stdout",
          "text": [
            "C = 0.01 -> Accuracy: 0.8981\n",
            "C = 0.1 -> Accuracy: 0.9069\n",
            "C = 1 -> Accuracy: 0.9075\n",
            "C = 10 -> Accuracy: 0.9044\n"
          ]
        }
      ]
    },
    {
      "cell_type": "code",
      "source": [
        "scaler = StandardScaler()\n",
        "X_train_scaled = scaler.fit_transform(X_train)\n",
        "X_val_scaled = scaler.transform(X_val)\n",
        "X_test_scaled = scaler.transform(X_test)\n",
        "\n",
        "from sklearn.preprocessing import PolynomialFeatures\n",
        "poly = PolynomialFeatures(degree=2, include_bias=False)\n",
        "\n",
        "X_train_poly = poly.fit_transform(X_train_scaled)\n",
        "X_val_poly = poly.transform(X_val_scaled)\n",
        "X_test_poly = poly.transform(X_test_scaled)\n",
        "\n",
        "model = LogisticRegression(C=0.1, max_iter=3000, solver='lbfgs')\n",
        "model.fit(X_train_poly, y_train)\n",
        "\n",
        "y_pred = model.predict(X_val_poly)\n",
        "print(\"Accuracy:\", accuracy_score(y_val, y_pred))\n",
        "print(\"Classification Report:\\n\", classification_report(y_val, y_pred, target_names=class_names))"
      ],
      "metadata": {
        "colab": {
          "base_uri": "https://localhost:8080/"
        },
        "id": "vZh3VkmZqFDS",
        "outputId": "69f09981-41dc-474b-f032-4a2525a05528"
      },
      "execution_count": null,
      "outputs": [
        {
          "output_type": "stream",
          "name": "stdout",
          "text": [
            "Accuracy: 0.944375\n",
            "Classification Report:\n",
            "               precision    recall  f1-score   support\n",
            "\n",
            "        farm       0.81      0.81      0.81       168\n",
            "      forest       0.97      0.98      0.98      1232\n",
            "       grass       0.88      0.59      0.71        39\n",
            "  impervious       0.87      0.90      0.88       134\n",
            "     orchard       0.75      0.50      0.60         6\n",
            "       water       0.89      0.76      0.82        21\n",
            "\n",
            "    accuracy                           0.94      1600\n",
            "   macro avg       0.86      0.76      0.80      1600\n",
            "weighted avg       0.94      0.94      0.94      1600\n",
            "\n"
          ]
        }
      ]
    },
    {
      "cell_type": "code",
      "source": [
        "test_preds = model.predict(X_test_poly)\n",
        "test_labels = label_encoder.inverse_transform(test_preds)\n",
        "\n",
        "submission = pd.DataFrame({'ID': test_ids, 'class': test_labels})\n",
        "submission.to_csv(\"submission.csv\", index=False)"
      ],
      "metadata": {
        "id": "_-IGzd1CqIHe"
      },
      "execution_count": null,
      "outputs": []
    },
    {
      "cell_type": "code",
      "source": [
        "submission.to_csv(\"submission.csv\", index=False)\n",
        "\n",
        "from google.colab import files\n",
        "files.download(\"submission.csv\")\n"
      ],
      "metadata": {
        "colab": {
          "base_uri": "https://localhost:8080/",
          "height": 17
        },
        "id": "UMz2DcaQm4LR",
        "outputId": "fa3058fc-ee3f-4017-e256-1d3d231227e4"
      },
      "execution_count": null,
      "outputs": [
        {
          "output_type": "display_data",
          "data": {
            "text/plain": [
              "<IPython.core.display.Javascript object>"
            ],
            "application/javascript": [
              "\n",
              "    async function download(id, filename, size) {\n",
              "      if (!google.colab.kernel.accessAllowed) {\n",
              "        return;\n",
              "      }\n",
              "      const div = document.createElement('div');\n",
              "      const label = document.createElement('label');\n",
              "      label.textContent = `Downloading \"${filename}\": `;\n",
              "      div.appendChild(label);\n",
              "      const progress = document.createElement('progress');\n",
              "      progress.max = size;\n",
              "      div.appendChild(progress);\n",
              "      document.body.appendChild(div);\n",
              "\n",
              "      const buffers = [];\n",
              "      let downloaded = 0;\n",
              "\n",
              "      const channel = await google.colab.kernel.comms.open(id);\n",
              "      // Send a message to notify the kernel that we're ready.\n",
              "      channel.send({})\n",
              "\n",
              "      for await (const message of channel.messages) {\n",
              "        // Send a message to notify the kernel that we're ready.\n",
              "        channel.send({})\n",
              "        if (message.buffers) {\n",
              "          for (const buffer of message.buffers) {\n",
              "            buffers.push(buffer);\n",
              "            downloaded += buffer.byteLength;\n",
              "            progress.value = downloaded;\n",
              "          }\n",
              "        }\n",
              "      }\n",
              "      const blob = new Blob(buffers, {type: 'application/binary'});\n",
              "      const a = document.createElement('a');\n",
              "      a.href = window.URL.createObjectURL(blob);\n",
              "      a.download = filename;\n",
              "      div.appendChild(a);\n",
              "      a.click();\n",
              "      div.remove();\n",
              "    }\n",
              "  "
            ]
          },
          "metadata": {}
        },
        {
          "output_type": "display_data",
          "data": {
            "text/plain": [
              "<IPython.core.display.Javascript object>"
            ],
            "application/javascript": [
              "download(\"download_21c06972-a28b-4f28-bbc8-313926fbc67f\", \"submission.csv\", 33065)"
            ]
          },
          "metadata": {}
        }
      ]
    },
    {
      "cell_type": "markdown",
      "source": [
        "Making some changes"
      ],
      "metadata": {
        "id": "j4uNpZeZVQo8"
      }
    },
    {
      "cell_type": "code",
      "source": [
        "import pandas as pd\n",
        "import numpy as np\n",
        "from sklearn.linear_model import LogisticRegression\n",
        "from sklearn.preprocessing import LabelEncoder, StandardScaler, PolynomialFeatures\n",
        "from sklearn.model_selection import train_test_split\n",
        "from sklearn.metrics import accuracy_score, classification_report\n",
        "\n",
        "train = pd.read_csv(\"hacktrain.csv\")\n",
        "test = pd.read_csv(\"hacktest.csv\")\n",
        "train.drop(columns=[\"Unnamed: 0\"], inplace=True)\n",
        "test.drop(columns=[\"Unnamed: 0\"], inplace=True)\n",
        "\n",
        "y = train[\"class\"]\n",
        "test_ids = test[\"ID\"]\n",
        "X = train.drop(columns=[\"ID\", \"class\"])\n",
        "X_test = test.drop(columns=[\"ID\"])\n",
        "\n",
        "X = X.interpolate(axis=1, limit_direction='both')\n",
        "X_test = X_test.interpolate(axis=1, limit_direction='both')\n",
        "\n",
        "ndvi_cols = X.columns[:27]\n",
        "drop_cols = [col for col in ndvi_cols if X[col].isna().mean() > 0.5 or X[col].std() < 0.02]\n",
        "X = X.drop(columns=drop_cols)\n",
        "X_test = X_test.drop(columns=drop_cols)\n",
        "\n",
        "def add_trend_features(df):\n",
        "    df = df.copy()\n",
        "    df['ndvi_mean'] = df.mean(axis=1)\n",
        "    df['ndvi_std'] = df.std(axis=1)\n",
        "    df['ndvi_max'] = df.max(axis=1)\n",
        "    df['ndvi_min'] = df.min(axis=1)\n",
        "    df['ndvi_range'] = df['ndvi_max'] - df['ndvi_min']\n",
        "    df['ndvi_slope'] = (df.iloc[:, -1] - df.iloc[:, 0]) / (df.shape[1] - 1)\n",
        "    df['ndvi_positive_trend'] = (df.iloc[:, 1:].values > df.iloc[:, :-1].values).mean(axis=1)\n",
        "    df['early_mean'] = df.iloc[:, :9].mean(axis=1)\n",
        "    df['mid_mean'] = df.iloc[:, 9:18].mean(axis=1)\n",
        "    df['late_mean'] = df.iloc[:, 18:].mean(axis=1)\n",
        "    return df\n",
        "\n",
        "X = add_trend_features(X)\n",
        "X_test = add_trend_features(X_test)\n",
        "\n",
        "label_encoder = LabelEncoder()\n",
        "y_encoded = label_encoder.fit_transform(y)\n",
        "class_names = label_encoder.classes_\n",
        "\n",
        "X_train, X_val, y_train, y_val = train_test_split(\n",
        "    X, y_encoded, test_size=0.2, stratify=y_encoded, random_state=42\n",
        ")\n",
        "\n",
        "scaler = StandardScaler()\n",
        "X_train_scaled = scaler.fit_transform(X_train)\n",
        "X_val_scaled = scaler.transform(X_val)\n",
        "X_test_scaled = scaler.transform(X_test)\n",
        "\n",
        "poly = PolynomialFeatures(degree=2, include_bias=False)\n",
        "X_train_poly = poly.fit_transform(X_train_scaled)\n",
        "X_val_poly = poly.transform(X_val_scaled)\n",
        "X_test_poly = poly.transform(X_test_scaled)\n",
        "\n",
        "model = LogisticRegression(C=0.1, max_iter=3000, solver='lbfgs')\n",
        "model.fit(X_train_poly, y_train)\n",
        "\n",
        "y_pred = model.predict(X_val_poly)\n",
        "print(\"Accuracy:\", accuracy_score(y_val, y_pred))\n",
        "print(\"Classification Report:\\n\", classification_report(y_val, y_pred, target_names=class_names))\n",
        "\n",
        "test_preds = model.predict(X_test_poly)\n",
        "test_labels = label_encoder.inverse_transform(test_preds)\n",
        "submission = pd.DataFrame({'ID': test_ids, 'class': test_labels})\n",
        "submission.to_csv(\"submission.csv\", index=False)\n",
        "\n",
        "from google.colab import files\n",
        "files.download(\"submission.csv\")\n"
      ],
      "metadata": {
        "colab": {
          "base_uri": "https://localhost:8080/",
          "height": 272
        },
        "id": "VmkW8iN5-5Sx",
        "outputId": "7f7e6cf5-3434-479c-a345-f42711fc882f"
      },
      "execution_count": null,
      "outputs": [
        {
          "output_type": "stream",
          "name": "stdout",
          "text": [
            "Accuracy: 0.940625\n",
            "Classification Report:\n",
            "               precision    recall  f1-score   support\n",
            "\n",
            "        farm       0.84      0.80      0.82       168\n",
            "      forest       0.97      0.98      0.98      1232\n",
            "       grass       0.85      0.59      0.70        39\n",
            "  impervious       0.83      0.88      0.86       134\n",
            "     orchard       0.33      0.17      0.22         6\n",
            "       water       0.85      0.81      0.83        21\n",
            "\n",
            "    accuracy                           0.94      1600\n",
            "   macro avg       0.78      0.70      0.73      1600\n",
            "weighted avg       0.94      0.94      0.94      1600\n",
            "\n"
          ]
        },
        {
          "output_type": "display_data",
          "data": {
            "text/plain": [
              "<IPython.core.display.Javascript object>"
            ],
            "application/javascript": [
              "\n",
              "    async function download(id, filename, size) {\n",
              "      if (!google.colab.kernel.accessAllowed) {\n",
              "        return;\n",
              "      }\n",
              "      const div = document.createElement('div');\n",
              "      const label = document.createElement('label');\n",
              "      label.textContent = `Downloading \"${filename}\": `;\n",
              "      div.appendChild(label);\n",
              "      const progress = document.createElement('progress');\n",
              "      progress.max = size;\n",
              "      div.appendChild(progress);\n",
              "      document.body.appendChild(div);\n",
              "\n",
              "      const buffers = [];\n",
              "      let downloaded = 0;\n",
              "\n",
              "      const channel = await google.colab.kernel.comms.open(id);\n",
              "      // Send a message to notify the kernel that we're ready.\n",
              "      channel.send({})\n",
              "\n",
              "      for await (const message of channel.messages) {\n",
              "        // Send a message to notify the kernel that we're ready.\n",
              "        channel.send({})\n",
              "        if (message.buffers) {\n",
              "          for (const buffer of message.buffers) {\n",
              "            buffers.push(buffer);\n",
              "            downloaded += buffer.byteLength;\n",
              "            progress.value = downloaded;\n",
              "          }\n",
              "        }\n",
              "      }\n",
              "      const blob = new Blob(buffers, {type: 'application/binary'});\n",
              "      const a = document.createElement('a');\n",
              "      a.href = window.URL.createObjectURL(blob);\n",
              "      a.download = filename;\n",
              "      div.appendChild(a);\n",
              "      a.click();\n",
              "      div.remove();\n",
              "    }\n",
              "  "
            ]
          },
          "metadata": {}
        },
        {
          "output_type": "display_data",
          "data": {
            "text/plain": [
              "<IPython.core.display.Javascript object>"
            ],
            "application/javascript": [
              "download(\"download_4026c651-04eb-4a4b-abb6-f3ea5ee7cc76\", \"submission.csv\", 33012)"
            ]
          },
          "metadata": {}
        }
      ]
    }
  ]
}